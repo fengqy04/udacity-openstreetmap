{
 "cells": [
  {
   "cell_type": "markdown",
   "metadata": {},
   "source": [
    "# Project 4  Wrangle OpenStreetMap Data\n",
    "I choose to use Chicago, IL as the city to study because I am living here right now. I download the data from below website:\n",
    "- https://www.openstreetmap.org/relation/122604#map=11/41.8340/-87.7324\n",
    "- https://mapzen.com/data/metro-extracts/metro/chicago_illinois/"
   ]
  },
  {
   "cell_type": "markdown",
   "metadata": {
    "collapsed": true
   },
   "source": [
    "## Problems Encountered in the Map\n",
    "After extracting a small sample size of Chicago data and auditing through it, I have found out several problems in the data:\n",
    "- Some of the street names and street types are in abbreviations. For example, \"Gregory M Sears Dr\" should be converted to \"Gregory M Sears Drive\".\n",
    "- The sample includes some data not in Chicago, IL. For example, data point with county of \"Lake, IN\" should not be included into the database.\n",
    "- The Tiger data is recorded in a different format from the regular data. For example:\n",
    "```xml\n",
    "<tag k=\"name\" v=\"Pinehurst Drive\" />\n",
    "<tag k=\"highway\" v=\"residential\" />\n",
    "<tag k=\"tiger:cfcc\" v=\"A41\" />\n",
    "<tag k=\"tiger:county\" v=\"Kane, IL\" />\n",
    "<tag k=\"tiger:reviewed\" v=\"no\" />\n",
    "<tag k=\"tiger:zip_left\" v=\"60506\" />\n",
    "<tag k=\"tiger:name_base\" v=\"Pinehurst\" />\n",
    "<tag k=\"tiger:name_type\" v=\"Dr\" />\n",
    "<tag k=\"tiger:zip_right\" v=\"60506\" />```"
   ]
  },
  {
   "cell_type": "markdown",
   "metadata": {},
   "source": [
    "### Street Names and Street Types\n",
    "I use `audit_street_name.py` to audit the street names. From the sample I find out some street names that need to be updated to full street types. For example, Ave to Avenue, Dr to Drive. I use the mapping method in the case study and the `update_st_name` function to update the street names."
   ]
  },
  {
   "cell_type": "markdown",
   "metadata": {},
   "source": [
    "### Postal Codes\n",
    "I use `audit_postal_code.py` to audit the postal codes. I build up the `audit_pc` function to map up the city/county and postal code of each data point. In regular data points, the postal codes are all correct - they are within the Great Chicago area. But among the Tiger data points which are collected from GPS, some of the data are in IN instead of IL. So I create a function `is_not_in` to figure out whether the data point from osm file is in IN state. If so, I will not put it into the csv files."
   ]
  },
  {
   "cell_type": "markdown",
   "metadata": {},
   "source": [
    "### Tiger Data\n",
    "There are a lot of data pulled from Tiger GPS. I use `audit_tiger.py` to audit these data because they have different values in second level \"k\" tags from the regular data. I audit the street names and it seems no need to update it in the sample data - there are no abbreviations. But I will still update the street names for Tiger data in cleaning process for larger size of data. I also audit the postal code of Tiger data, and as I mentioned above, it includes some IN data. I will eliminate them in the cleaning process."
   ]
  },
  {
   "cell_type": "markdown",
   "metadata": {
    "collapsed": true
   },
   "source": [
    "## Overview of the Data\n",
    "After using `clean_convert.py` to clean and convert the xml file into csv file, I create the database from csv file and use sql queries to gather the data overview."
   ]
  },
  {
   "cell_type": "markdown",
   "metadata": {},
   "source": [
    "### File Size\n",
    "- Original uncompressed osm file: chicago_illinois.osm ----- 2.08GB\n",
    "- Sample osm file: sample.osm ----- 2.1MB\n",
    "- Database: chicago.db ----- 2.4MB"
   ]
  },
  {
   "cell_type": "markdown",
   "metadata": {},
   "source": [
    "### Number of Nodes and Ways\n",
    "```sql\n",
    "sqlite> SELECT COUNT(*) FROM nodes;\n",
    "8708```\n",
    "\n",
    "```sql\n",
    "sqlite> SELECT COUNT(*) FROM ways;\n",
    "1221```"
   ]
  },
  {
   "cell_type": "markdown",
   "metadata": {},
   "source": [
    "### Top 10 Contributing Users\n",
    "```sql\n",
    "sqlite> SELECT user, COUNT(*) as count\n",
    "   ...> FROM\n",
    "   ...> (SELECT user FROM ways UNION ALL\n",
    "   ...> SELECT user FROM nodes) u\n",
    "   ...> GROUP BY user\n",
    "   ...> ORDER BY count DESC\n",
    "   ...> LIMIT 10;\n",
    "   \n",
    "chicago-buildings,5609\n",
    "Umbugbene,1112\n",
    "woodpeck_fixbot,223\n",
    "alexrudd (NHD),201\n",
    "g246020,117\n",
    "asdf1234,107\n",
    "patester24,104\n",
    "Oak_Park_IL,102\n",
    "mpinnau,96\n",
    "TIGERcnl,88```"
   ]
  },
  {
   "cell_type": "markdown",
   "metadata": {},
   "source": [
    "### Number of Unique Users\n",
    "```sql\n",
    "sqlite> SELECT COUNT(DISTINCT(u.uid))\n",
    "   ...> FROM\n",
    "   ...> (SELECT uid FROM ways UNION ALL\n",
    "   ...> SELECT uid FROM nodes) u;\n",
    "376```"
   ]
  },
  {
   "cell_type": "markdown",
   "metadata": {},
   "source": [
    "### Number of Users Contributing Only Once\n",
    "```sql\n",
    "sqlite> SELECT COUNT(*)\n",
    "   ...> FROM\n",
    "   ...> (SELECT n.uid, COUNT(*) as count\n",
    "   ...> FROM (SELECT uid FROM ways UNION ALL\n",
    "   ...> SELECT uid FROM nodes) n\n",
    "   ...> GROUP BY n.uid\n",
    "   ...> HAVING count=1) m;\n",
    "   \n",
    "178```"
   ]
  },
  {
   "cell_type": "markdown",
   "metadata": {},
   "source": [
    "### Other Tops in Tags\n",
    "- Top recorded points at highway:\n",
    "```sql\n",
    "sqlite> SELECT n.value, COUNT(*) as count\n",
    "   ...> FROM \n",
    "   ...> (SELECT * FROM ways_tags UNION ALL\n",
    "   ...> SELECT * FROM nodes_tags) n\n",
    "   ...> WHERE key='highway'\n",
    "   ...> GROUP BY n.value\n",
    "   ...> ORDER BY count DESC\n",
    "   ...> LIMIT 5;\n",
    "residential,104\n",
    "service,70\n",
    "footway,17\n",
    "secondary,15\n",
    "bus_stop,14```"
   ]
  },
  {
   "cell_type": "markdown",
   "metadata": {},
   "source": [
    "- Top amenities:\n",
    "```sql\n",
    "sqlite> SELECT n.value, COUNT(*) as count\n",
    "   ...> FROM\n",
    "   ...> (SELECT * FROM ways_tags UNION ALL\n",
    "   ...> SELECT * FROM nodes_tags) n\n",
    "   ...> WHERE key='amenity'\n",
    "   ...> GROUP BY n.value\n",
    "   ...> ORDER BY count DESC\n",
    "   ...> LIMIT 5;\n",
    "parking,18\n",
    "school,5\n",
    "place_of_worship,2\n",
    "restaurant,2\n",
    "bicycle_repair_station,1```"
   ]
  },
  {
   "cell_type": "markdown",
   "metadata": {},
   "source": [
    "## Other Ideas about the Datasets"
   ]
  },
  {
   "cell_type": "markdown",
   "metadata": {},
   "source": [
    "### Contribution Rate\n",
    "Combining nodes and ways, the number of records in the sample is 9,929. Excluding the user *chicago-building* (I believe that it is the administator to mark down the main buildings in Chicago), the number of contributing points is 4,320. Among these points, user *Umbugbene* contributes 25.74% of data, and top 10 users contributes over half of the data. 47.34% of users contributes only once to the dataset, and they contributes only 4.12% in total. Apparently the Chicago data might not be robust if one of the influential users keep reporting incorrect data points. "
   ]
  },
  {
   "cell_type": "markdown",
   "metadata": {},
   "source": [
    "### City and Postal Code\n",
    "From the data auditing and cleaning process, it is easy to tell that the data points do not include all information about the node. For example, not all points contain city name, county name, or zip code. I query for top cities and top postal cods as below:"
   ]
  },
  {
   "cell_type": "markdown",
   "metadata": {},
   "source": [
    "- Top cities:\n",
    "```sql\n",
    "sqlite> SELECT value, COUNT(*) as count\n",
    "   ...> FROM\n",
    "   ...> (SELECT * FROM ways_tags UNION ALL\n",
    "   ...> SELECT * FROM nodes_tags) n\n",
    "   ...> WHERE key LIKE '%city'\n",
    "   ...> GROUP BY value\n",
    "   ...> ORDER BY count DESC\n",
    "   ...> LIMIT 5;\n",
    "Evanston,16\n",
    "Chicago,4\n",
    "Naperville,4\n",
    "River Forest,4\n",
    "Downers Grove,2```"
   ]
  },
  {
   "cell_type": "markdown",
   "metadata": {},
   "source": [
    "- Top postal codes:\n",
    "```sql\n",
    "sqlite> SELECT n.value, COUNT(*) as count\n",
    "   ...> FROM\n",
    "   ...> (SELECT * FROM ways_tags UNION ALL\n",
    "   ...> SELECT * FROM nodes_tags) n\n",
    "   ...> WHERE n.key='postcode'\n",
    "   ...> OR n.key LIKE 'zip%'\n",
    "   ...> GROUP BY n.value\n",
    "   ...> ORDER BY count DESC\n",
    "   ...> LIMIT 5;\n",
    "60201,8\n",
    "60202,8\n",
    "60004,6\n",
    "60477,6\n",
    "60515,5```"
   ]
  },
  {
   "cell_type": "markdown",
   "metadata": {},
   "source": [
    "The top 2 postal codes are for Evanston, which is consistent with the result of top cities. But the following zip codes are for Arlington Heights and Tinley Park that are not in top cities. It is just a simple query to see the inconsistency between city and postal code. By doing this, we can tell that the dataset is incomplete and inconsistent."
   ]
  },
  {
   "cell_type": "markdown",
   "metadata": {},
   "source": [
    "### Solutions\n",
    "The above problems of the OpenStreetMap data could be solved by relying more on GPS data. By introducing the GPS technology, the record of map data will be more complete and accurate. Instead of manually reporting the map data by users, GPS data is more robust and unbiased, especially when users are not familiar with the ways. It will also improve the dataset if specific framework and standard is introduced into the GPS data collection process. However, it is not easy to have access to as much as GPS data on private cell phones and cars - it might raise privacy issue about personal activities. In addition, the interval between each update should be set properly. Using GPS to update the map data might hugely increase the size of the dataset by adding a lot of repeated information to one specific node."
   ]
  },
  {
   "cell_type": "markdown",
   "metadata": {},
   "source": [
    "## References\n",
    "- [OpenStreetMap Data Case Study](https://gist.github.com/carlward/54ec1c91b62a5f911c42#file-sample_project-md)\n",
    "- [OpenStreetMap Sample Project Data Wrangling with MongoDB](https://docs.google.com/document/d/1F0Vs14oNEs2idFJR3C_OPxwS6L0HPliOii-QpbmrMo4/pub)\n",
    "- [SQL Schema](https://gist.github.com/swwelch/f1144229848b407e0a5d13fcb7fbbd6f)"
   ]
  }
 ],
 "metadata": {
  "anaconda-cloud": {},
  "kernelspec": {
   "display_name": "Python [conda env:DAND]",
   "language": "python",
   "name": "conda-env-DAND-py"
  },
  "language_info": {
   "codemirror_mode": {
    "name": "ipython",
    "version": 2
   },
   "file_extension": ".py",
   "mimetype": "text/x-python",
   "name": "python",
   "nbconvert_exporter": "python",
   "pygments_lexer": "ipython2",
   "version": "2.7.12"
  }
 },
 "nbformat": 4,
 "nbformat_minor": 2
}
